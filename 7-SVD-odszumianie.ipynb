{
 "cells": [
  {
   "cell_type": "markdown",
   "metadata": {},
   "source": [
    "SVD może być stosowane do odszumiania.\n",
    "\n",
    "\n",
    "Jak było widać najważniejsze komponenty rejstrują najbardziej charakterystyczne wzorce (najmniejsza częstotliwość). W danych czesto występuje szum (pomiary są niedokładne). Wówczas SVD może być użyte do usunięcia (redukcji szumu) obcinając najmniej znaczące komponenty. Sprawdzimy to na obrazkach.\n",
    "\n",
    "1. Bierzemy MNISTa i zbiór treningowy. Robimy na tym SVD - daje nam to wektory własne.\n",
    "\n",
    "2. Bierzemy zbiór testowy i zaszumiamy np. sól i pieprz lub szum gaussowski na wybranych pikselach\n",
    "\n",
    "3. Obrazki zbioru testowego rzutujemy na wektory własne (kilka pierwszych) a potem rekonstuujemy. Liczymy różnice: (1) oryginału z rekonstrukcją (2) oryginału z zaszumionym - które jest mniejsze?\n"
   ]
  },
  {
   "cell_type": "markdown",
   "metadata": {},
   "source": [
    "Zaszumiamy nasz obrazek Gaussowsko"
   ]
  },
  {
   "cell_type": "code",
   "execution_count": null,
   "metadata": {
    "collapsed": true
   },
   "outputs": [],
   "source": []
  }
 ],
 "metadata": {
  "kernelspec": {
   "display_name": "Python 3",
   "language": "python",
   "name": "python3"
  },
  "language_info": {
   "codemirror_mode": {
    "name": "ipython",
    "version": 3
   },
   "file_extension": ".py",
   "mimetype": "text/x-python",
   "name": "python",
   "nbconvert_exporter": "python",
   "pygments_lexer": "ipython3",
   "version": "3.6.3"
  }
 },
 "nbformat": 4,
 "nbformat_minor": 2
}
