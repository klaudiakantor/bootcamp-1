{
 "cells": [
  {
   "cell_type": "markdown",
   "metadata": {},
   "source": [
    "Spróbujemy zrozumieć SVD (przynajmniej geometrycznie). \n",
    "\n",
    "Na początek zobaczmy co to jest rozkład SVD."
   ]
  },
  {
   "cell_type": "code",
   "execution_count": 3,
   "metadata": {},
   "outputs": [
    {
     "name": "stdout",
     "output_type": "stream",
     "text": [
      "A:\n",
      " [[1 2]\n",
      " [3 4]\n",
      " [5 6]]\n",
      "U:\n",
      " [[-0.2298477   0.88346102  0.40824829]\n",
      " [-0.52474482  0.24078249 -0.81649658]\n",
      " [-0.81964194 -0.40189603  0.40824829]]\n",
      "S\n",
      " [[ 9.52551809  0.        ]\n",
      " [ 0.          0.51430058]\n",
      " [ 0.          0.        ]]\n",
      "V^T:\n",
      " [[-0.61962948 -0.78489445]\n",
      " [-0.78489445  0.61962948]]\n"
     ]
    }
   ],
   "source": [
    "# Singular-value decomposition\n",
    "import numpy as np\n",
    "from scipy.linalg import svd\n",
    "from scipy.linalg import inv\n",
    "\n",
    "# define a matrix\n",
    "A = np.array([[1, 2], [3, 4], [5, 6]])\n",
    "print(\"A:\\n\", A)\n",
    "\n",
    "U, s, VT = svd(A)\n",
    "\n",
    "print(\"U:\\n\", U)\n",
    "S = np.zeros((A.shape[0], A.shape[1]))\n",
    "# populate Sigma with n x n diagonal matrix\n",
    "S[:A.shape[1], :A.shape[1]] = np.diag(s)\n",
    "print(\"S\\n\", S)\n",
    "print(\"V^T:\\n\", VT)"
   ]
  },
  {
   "cell_type": "markdown",
   "metadata": {},
   "source": [
    "Powstałe macierz pozwalają na rekonstrukcję oryginalnej macierzy w następujący sposób:\n",
    "$$\n",
    "A = U S V^T\n",
    "$$\n",
    "gdzie $S$ to macierz diagonalna z wyrazami $s$ na przekątnej. Wymiar $S$ jest taki jak wymiar macierzy $A$. Zobacz: https://en.wikipedia.org/wiki/Singular-value_decomposition dla ilustracji.\n",
    "\n",
    "Proszę sprawdzić, że iloczyn tych macierzy rzeczywiście daje wyjściową macierz."
   ]
  },
  {
   "cell_type": "code",
   "execution_count": 4,
   "metadata": {},
   "outputs": [],
   "source": [
    "#TODO"
   ]
  },
  {
   "cell_type": "markdown",
   "metadata": {},
   "source": [
    "Wyrazy $s$ to wartości singularne i są one powiązane z wartościami własnymi macierzy kowaiancji, a kolumny $V$ to wektory własne.\n",
    "\n",
    "Żeby zrozumieć co robi SVD, trzeba zdać sobie sprawę z tego że macierz to odwzorowanie liniowe. Każde odwzorowanie liniowe można przedstawić w postaci złożenia 3 odwzorowań: obrotu, skalowania, obrotu - to jest właśnie rozkład SVD. Jak wyglądają te odwzorowania zobrazujemy sobie na przykładzie 2D.\n",
    "\n",
    "Potrzebne nam będą pomocnicze funkcje do rysowania.\n"
   ]
  },
  {
   "cell_type": "code",
   "execution_count": 5,
   "metadata": {
    "collapsed": true
   },
   "outputs": [],
   "source": [
    "import matplotlib.pyplot as plt\n",
    "\n",
    "def plotVectors(vecs, cols, alpha=1):\n",
    "    \"\"\"\n",
    "    Plot set of vectors.\n",
    "\n",
    "    Parameters\n",
    "    ----------\n",
    "    vecs : array-like\n",
    "        Coordinates of the vectors to plot. Each vectors is in an array. For\n",
    "        instance: [[1, 3], [2, 2]] can be used to plot 2 vectors.\n",
    "    cols : array-like\n",
    "        Colors of the vectors. For instance: ['red', 'blue'] will display the\n",
    "        first vector in red and the second in blue.\n",
    "    alpha : float\n",
    "        Opacity of vectors\n",
    "\n",
    "    Returns:\n",
    "\n",
    "    fig : instance of matplotlib.figure.Figure\n",
    "        The figure of the vectors\n",
    "    \"\"\"\n",
    "    plt.figure()\n",
    "    plt.axvline(x=0, color='#A9A9A9', zorder=0)\n",
    "    plt.axhline(y=0, color='#A9A9A9', zorder=0)\n",
    "\n",
    "    for i in range(len(vecs)):\n",
    "        x = np.concatenate([[0,0],vecs[i]])\n",
    "        plt.quiver([x[0]],\n",
    "                   [x[1]],\n",
    "                   [x[2]],\n",
    "                   [x[3]],\n",
    "                   angles='xy', scale_units='xy', scale=1, color=cols[i],\n",
    "                  alpha=alpha)\n",
    "        \n",
    "def matrixToPlot(matrix, vectorsCol=['#FF9A13', '#1190FF']):\n",
    "    \"\"\"\n",
    "    Modify the unit circle and basis vector by applying a matrix.\n",
    "    Visualize the effect of the matrix in 2D.\n",
    "\n",
    "    Parameters\n",
    "    ----------\n",
    "    matrix : array-like\n",
    "        2D matrix to apply to the unit circle.\n",
    "    vectorsCol : HEX color code\n",
    "        Color of the basis vectors\n",
    "\n",
    "    Returns:\n",
    "\n",
    "    fig : instance of matplotlib.figure.Figure\n",
    "        The figure containing modified unit circle and basis vectors.\n",
    "    \"\"\"\n",
    "    # Unit circle\n",
    "    x = np.linspace(-1, 1, 100000)\n",
    "    y = np.sqrt(1-(x**2))\n",
    "\n",
    "    # Modified unit circle (separate negative and positive parts)\n",
    "    x1 = matrix[0,0]*x + matrix[0,1]*y\n",
    "    y1 = matrix[1,0]*x + matrix[1,1]*y\n",
    "    x1_neg = matrix[0,0]*x - matrix[0,1]*y\n",
    "    y1_neg = matrix[1,0]*x - matrix[1,1]*y\n",
    "\n",
    "    # Vectors\n",
    "    u1 = [matrix[0,0],matrix[1,0]]\n",
    "    v1 = [matrix[0,1],matrix[1,1]]\n",
    "\n",
    "    plotVectors([u1, v1], cols=[vectorsCol[0], vectorsCol[1]])\n",
    "\n",
    "    plt.plot(x1, y1, 'g', alpha=0.5)\n",
    "    plt.plot(x1_neg, y1_neg, 'g', alpha=0.5)\n"
   ]
  },
  {
   "cell_type": "markdown",
   "metadata": {},
   "source": [
    "Bierzemy macierz 2 na 2. W języku danych są to dwa punkty na płaszczyżnie a w języku funkcji to odwzorowanie liniowe wektora z płaszczyzny na płaszczyznę. Pokażemy jak wektory bazowe (osie układu) zmieniają się pod wpływem tego odzworowania.\n",
    "\n",
    "Bierzemy wektor $x = [x_1 x_2]$. Macierz $A$ działa na tym wektorze jako $y = A x$ - to produkuje nowy wektor $y = [y_1 y_2]$"
   ]
  },
  {
   "cell_type": "code",
   "execution_count": 6,
   "metadata": {},
   "outputs": [
    {
     "name": "stdout",
     "output_type": "stream",
     "text": [
      "Unit circle:\n",
      "Unit circle transformed by A:\n"
     ]
    }
   ],
   "source": [
    "A = np.array([[3, 7], [5, 2]])\n",
    "\n",
    "#transformujemy wektory bazowe [1,0], [0,1] oraz okrąg jednopstkowy przez A - rysujemy wynik\n",
    "\n",
    "print('Unit circle:')\n",
    "\n",
    "print('Unit circle transformed by A:')\n"
   ]
  },
  {
   "cell_type": "markdown",
   "metadata": {},
   "source": [
    "Dokonujemy rozkładu SVD:"
   ]
  },
  {
   "cell_type": "code",
   "execution_count": 7,
   "metadata": {},
   "outputs": [],
   "source": [
    "#TODO"
   ]
  },
  {
   "cell_type": "markdown",
   "metadata": {},
   "source": [
    "Pokażemy teraz jak nasz bazowy okrąg oraz wektory bazowe zmieniają się pod wpływem składowych transformacji"
   ]
  },
  {
   "cell_type": "code",
   "execution_count": 8,
   "metadata": {},
   "outputs": [
    {
     "name": "stdout",
     "output_type": "stream",
     "text": [
      "Unit circle:\n",
      "First rotation:\n",
      "Scaling:\n",
      "Second rotation:\n"
     ]
    }
   ],
   "source": [
    "# Unit circle\n",
    "print('Unit circle:')\n",
    "#\n",
    "print('First rotation:')\n",
    "#\n",
    "print('Scaling:')\n",
    "#\n",
    "\n",
    "print('Second rotation:')\n",
    "#"
   ]
  },
  {
   "cell_type": "markdown",
   "metadata": {},
   "source": [
    "Transformacja SVD działa na dowolnych (niekwadratowych) macierzach."
   ]
  },
  {
   "cell_type": "markdown",
   "metadata": {},
   "source": [
    "W języku danych, szukamy 2 obrotów i skalowania, które przekształcają dane z kuli do naszego zbioru danych. "
   ]
  },
  {
   "cell_type": "markdown",
   "metadata": {},
   "source": [
    "Pokażmy ścisły związek z rozkładem na wartości i wektory własne. Zakładamy, że nasze dane są przesunięte do zera (wyśrodkowane). Wtedy \n",
    "<ul>\n",
    "<li> $U$ odpowiada wektorom własnym $A A^T$</li>\n",
    "<li> $V$ odpowiada wektorom własnym $A^T A$ (macierzy kowariancji)</li>\n",
    "<li> $S$ to pierwiastkowi z wartości własnych $A^T A$</li>\n",
    "</ul>\n",
    "Proszę to sprawdzić"
   ]
  },
  {
   "cell_type": "markdown",
   "metadata": {},
   "source": [
    "Przypomnijmy że SVD to:\n",
    "$$\n",
    "X = U S V^T.\n",
    "$$\n",
    "Macierze $U$ i $V$ są ortogonalne, więc mnożąc z prawej strony przez $V$ dostajemy:\n",
    "$$\n",
    "XV = US.\n",
    "$$\n",
    "\n",
    "Jeśli redukujemy dane $X$ do $k$ wymiarów za pomocą SVD to rzutujemy na podprzestrzeń rozpiętą przez $V_k = (v_1,\\ldots,v_k)$, czyli mnożymy $X V_k$. Jest to to samo co $U_k S_k$. Dostajemy przedstawienie każdego wektora danych za pomocą $k$ wektorów własnych. Wektory własne to takie nowe wektory bazowe, które biorą trochę z oryginalnych współrzędnych (topici, które są kombinacją słów w nlp).  Jeśli potraktujemy $V_k$ jako nowy układ współrzędnych to mamy redukcję do $k$ wymiarów.\n",
    "\n",
    "Jeśli chcemy teraz odtworzyć (stratnie) nasze dane to wykorzystujemy:\n",
    "$$\n",
    "X = U_k S_k (V^T)_k.\n",
    "$$\n",
    "Skoro zredukowane dane to $U_k S_k$, to mnożymy je z prawej przez $(V^T)_k$.\n",
    "\n",
    "W TruncatedSVD, components to $V_k$, explained variance jest powiązane z $S$ ale to nie do końca to...."
   ]
  },
  {
   "attachments": {
    "image.png": {
     "image/png": "[encoded data removed]"
    }
   },
   "cell_type": "markdown",
   "metadata": {},
   "source": [
    "Mówiliśmy, że oryginalna macierz może zostać odtworzona z rozkładu SVD. Ciekawsze z naszego punktu widzenia jest to że dane można zapisać używając mniejszej ilości komponentów (wektorów własnych macierzy kowariancji), czyli skompresować, a później odtworzyć w sposób stratny. Dokładniej bierzemy dane wymiaru $D=100$ i chcemy zredukować do wymiary $k=10$. Rozkład SVD daje nam przepis jak wrócić z wymiaru $k$ do wymiaru $D$ (ale stratnie).  Mianowicie trzeba wziąć:\n",
    "<ul>\n",
    "<li> $k$ wierszy $V^T$</li>\n",
    "<li> podmacierz $S$ wymiaru $k$ na $k$</li>\n",
    "<li> $k$ kolumn $U$</li>\n",
    "</ul>\n",
    "i pomnożyć ze sobą. Zobacz na mnożenie macierzy SVD na wikipedii: https://en.wikipedia.org/wiki/Singular-value_decomposition\n",
    "\n",
    "![image.png](attachment:image.png)"
   ]
  },
  {
   "cell_type": "markdown",
   "metadata": {},
   "source": [
    "Proszę wziąć dane 3D, zredukować je do 2 komponentów, a następnie odzyskać - zobaczyć jak się różnią"
   ]
  },
  {
   "cell_type": "code",
   "execution_count": 14,
   "metadata": {},
   "outputs": [
    {
     "name": "stdout",
     "output_type": "stream",
     "text": [
      "[[ 1  2  3  4  5  6  7  8  9 10]\n",
      " [11 12 13 14 15 16 17 18 19 20]\n",
      " [21 22 23 24 25 26 27 28 29 30]]\n"
     ]
    }
   ],
   "source": [
    "#bierzemy dane które opisują prostą w 2D\n",
    "\n",
    "A = np.array([\n",
    "\t[1,2,3,4,5,6,7,8,9,10],\n",
    "\t[11,12,13,14,15,16,17,18,19,20],\n",
    "\t[21,22,23,24,25,26,27,28,29,30]])\n",
    "print(A)\n",
    "# Singular-value decomposition\n",
    "#TODO"
   ]
  },
  {
   "cell_type": "markdown",
   "metadata": {
    "collapsed": true
   },
   "source": [
    "Proszę również zobaczyć na ten przykład i zredukować do 1 wymiaru i odzyskać"
   ]
  },
  {
   "cell_type": "code",
   "execution_count": 15,
   "metadata": {
    "collapsed": true
   },
   "outputs": [],
   "source": [
    "A = np.array([\n",
    "\t[1,2,3,4,5,6,7,8,9,10],\n",
    "\t[2,4,6,8,10,12,14,16,18,20]])\n"
   ]
  },
  {
   "cell_type": "code",
   "execution_count": 16,
   "metadata": {
    "collapsed": true
   },
   "outputs": [],
   "source": [
    "#TODO"
   ]
  },
  {
   "cell_type": "code",
   "execution_count": null,
   "metadata": {
    "collapsed": true
   },
   "outputs": [],
   "source": []
  }
 ],
 "metadata": {
  "kernelspec": {
   "display_name": "Python 3",
   "language": "python",
   "name": "python3"
  },
  "language_info": {
   "codemirror_mode": {
    "name": "ipython",
    "version": 3
   },
   "file_extension": ".py",
   "mimetype": "text/x-python",
   "name": "python",
   "nbconvert_exporter": "python",
   "pygments_lexer": "ipython3",
   "version": "3.6.3"
  }
 },
 "nbformat": 4,
 "nbformat_minor": 2
}
