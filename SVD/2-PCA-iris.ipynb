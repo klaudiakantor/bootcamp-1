{
 "cells": [
  {
   "cell_type": "markdown",
   "metadata": {},
   "source": [
    "PCA używa się głównie do redukcji wymiarowości dużych danych - takich o wielu atrybutach. Możemy wówczas zwizualizować dane np. na 2 najważniejszych współrzędnych jak również dokonać innych operacji np. klasyfikacji.\n",
    "\n",
    "1. Pobierzemy sobie ulubione dane z repozytorium UCI w celu zobrazowania działania. Proszę zobaczyć co oznaczają poszczególne atrybuty i klasa. Następnie proszę zapisać do osobnych numpy array atrybuty oraz klasy.\n",
    "\n",
    "2. Narysujmy histogramy klas dla każdego atrybutu z osobna (zobaczymy możliwości dyskryminacyjne atrybutu)\n",
    "\n",
    "3. Proszę zrobić PCA i zwizualizować dane na płaszczyźnie - osobnym kolorem zaznaczamy przzykłady osobnych klas. Czy klasy są łatwo separowalne? Ile wariancji wyjaśniają 2 komponenty?\n",
    "\n",
    "4. Proszę porównać efekt do przypadku gdzie wybieramy inne komponenty albo po prostu 2 atrybuty\n",
    "\n",
    "5. Proszę spróbować porównać klasyfikację (logistyczna regresja) na pełnych i zredukowanych danych (czas, jakość).\n",
    "\n",
    "6. Dla chętnych: Proszę wziąć zbiór przynajmniej 10 wymiarowy (albo więcej) i przetestować jak się ma jakość klasyfikacji i czas w stosunku do ilości wybranych atrybutów"
   ]
  },
  {
   "cell_type": "code",
   "execution_count": 1,
   "metadata": {
    "collapsed": true
   },
   "outputs": [],
   "source": [
    "#TODO"
   ]
  },
  {
   "cell_type": "code",
   "execution_count": null,
   "metadata": {
    "collapsed": true
   },
   "outputs": [],
   "source": []
  }
 ],
 "metadata": {
  "kernelspec": {
   "display_name": "Python 3",
   "language": "python",
   "name": "python3"
  },
  "language_info": {
   "codemirror_mode": {
    "name": "ipython",
    "version": 3
   },
   "file_extension": ".py",
   "mimetype": "text/x-python",
   "name": "python",
   "nbconvert_exporter": "python",
   "pygments_lexer": "ipython3",
   "version": "3.6.3"
  }
 },
 "nbformat": 4,
 "nbformat_minor": 2
}
