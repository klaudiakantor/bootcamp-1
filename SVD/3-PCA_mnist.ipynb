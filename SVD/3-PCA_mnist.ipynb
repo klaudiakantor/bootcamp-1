{
 "cells": [
  {
   "cell_type": "markdown",
   "metadata": {},
   "source": [
    "PCA ma sens jeśli dane są najprawdę wysoko wymiarowe tzn. mają przynajmniej 100 atrybutów. Przykładem takich danych są dane obrazkowe. Wymiar danych to szerokość razy wysokość obrazka a wartość danego atrybutu to intensywność koloru danego piksela.\n",
    "\n",
    "Spróbujemy użyć PCA na bazie danych MNIST zawierającej obrazki ręcznie pisanych cyferek. Będziemy zarówno wizualizować efekty redukcji jak i użwać redukcji do klasyfikacji.\n",
    "\n",
    "Najpierw pobierzmy dane i przyjrzyjmy się im to znaczy:\n",
    "\n",
    "-ile mają wymiarów\n",
    "\n",
    "-jaka jest ich ilość\n",
    "\n",
    "-jaki jest zakres wartości pikseli\n",
    "\n",
    "-ile jest klas\n",
    "\n",
    "Dane są w sklearn i pobieramy przez fetch_mldata('MNIST_original')\n",
    "\n",
    "Uwaga: Jeśli dane się nie pobierają, to pobieramy plik z https://github.com/amplab/datascience-sp14/blob/master/lab7/mldata/mnist-original.mat i wrzucamy do katalogu \"~/scikit_learn_data/mldata\" (katalog uzytkownika)."
   ]
  },
  {
   "cell_type": "code",
   "execution_count": 1,
   "metadata": {
    "collapsed": true
   },
   "outputs": [],
   "source": [
    "#TODO"
   ]
  },
  {
   "cell_type": "markdown",
   "metadata": {},
   "source": [
    "Spróbujmy zobaczyć obrazek. W tym celu używamy metody \"imshow\" klasy \"plot\" - jako argument wrzucamy 2-wymiarowy numpy array."
   ]
  },
  {
   "cell_type": "code",
   "execution_count": 2,
   "metadata": {},
   "outputs": [],
   "source": [
    "#TODO"
   ]
  },
  {
   "cell_type": "markdown",
   "metadata": {},
   "source": [
    "Proszę wypisać po jednej przykładowej cyferce z każdej z klas."
   ]
  },
  {
   "cell_type": "code",
   "execution_count": 3,
   "metadata": {
    "collapsed": true
   },
   "outputs": [],
   "source": [
    "#TODO"
   ]
  },
  {
   "cell_type": "markdown",
   "metadata": {},
   "source": [
    "Proszę zobrazowac poszczególne klasy w 2 wymiarach (PCA) - osobnym kolorem zaznaczamy punkty z różnych klas"
   ]
  },
  {
   "cell_type": "code",
   "execution_count": 4,
   "metadata": {
    "scrolled": true
   },
   "outputs": [],
   "source": [
    "#TODO"
   ]
  },
  {
   "cell_type": "markdown",
   "metadata": {},
   "source": [
    "Spróbujmy zobaczyć co dla obrazków znaczą wektory własne. Są to obrazki. Zatem narysujmy 50 widących wektorów własnych."
   ]
  },
  {
   "cell_type": "code",
   "execution_count": 6,
   "metadata": {},
   "outputs": [],
   "source": [
    "#TODO"
   ]
  },
  {
   "cell_type": "markdown",
   "metadata": {},
   "source": [
    "Pierszy komponent opisuje najbardziej charakterystytczny wektor (kierunek). Jest to najbardziej charakterystyczny (średni) obrazek ze wszystkich. Kolejne opisuja większe zmienności.\n",
    "\n"
   ]
  },
  {
   "cell_type": "markdown",
   "metadata": {},
   "source": [
    "Chcemy przetestować szybkość i jakość klasyfikacji w zależności od ilość wyjaśnianej wariancji. Dla wyjaśnianiej wariancji 0.85, 0.9, 0.95, 0.96, 0.99, 1.0 raportujemy: ilość komponentów, szybkość uczenia, szybkość klasyfikacji, dokładność klasyfikacji.\n",
    "\n"
   ]
  },
  {
   "cell_type": "code",
   "execution_count": 7,
   "metadata": {
    "collapsed": true
   },
   "outputs": [],
   "source": [
    "#TODO"
   ]
  },
  {
   "cell_type": "markdown",
   "metadata": {},
   "source": [
    "Jeśli ktoś zdąży to proszę poszukać zbioru danych z twarzami osób i tam zobaczyć jakie są wektory własne"
   ]
  },
  {
   "cell_type": "code",
   "execution_count": 8,
   "metadata": {
    "collapsed": true
   },
   "outputs": [],
   "source": [
    "#TODO"
   ]
  }
 ],
 "metadata": {
  "kernelspec": {
   "display_name": "Python 3",
   "language": "python",
   "name": "python3"
  },
  "language_info": {
   "codemirror_mode": {
    "name": "ipython",
    "version": 3
   },
   "file_extension": ".py",
   "mimetype": "text/x-python",
   "name": "python",
   "nbconvert_exporter": "python",
   "pygments_lexer": "ipython3",
   "version": "3.6.3"
  }
 },
 "nbformat": 4,
 "nbformat_minor": 2
}
